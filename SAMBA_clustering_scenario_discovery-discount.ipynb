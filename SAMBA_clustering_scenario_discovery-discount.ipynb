{
 "cells": [
  {
   "cell_type": "code",
   "execution_count": 1,
   "metadata": {
    "collapsed": false
   },
   "outputs": [],
   "source": [
    "import pandas as pd\n",
    "import numpy as np\n",
    "import matplotlib.pyplot as plt\n",
    "import prim\n",
    "import seaborn as sns\n",
    "from sklearn import mixture"
   ]
  },
  {
   "cell_type": "code",
   "execution_count": 2,
   "metadata": {
    "collapsed": true
   },
   "outputs": [],
   "source": [
    "%matplotlib inline"
   ]
  },
  {
   "cell_type": "code",
   "execution_count": 3,
   "metadata": {
    "collapsed": true
   },
   "outputs": [],
   "source": [
    "sns.set_context(\"poster\",rc={\"font.size\": 28})\n",
    "sns.set_style(\"whitegrid\")"
   ]
  },
  {
   "cell_type": "code",
   "execution_count": 4,
   "metadata": {
    "collapsed": true
   },
   "outputs": [],
   "source": [
    "data = pd.read_excel(\"SAMBA scenario results all runs.xlsx\",\"Capitalinv Variable and Fixed\")"
   ]
  },
  {
   "cell_type": "code",
   "execution_count": null,
   "metadata": {
    "collapsed": false
   },
   "outputs": [],
   "source": [
    "data.sample(5)"
   ]
  },
  {
   "cell_type": "code",
   "execution_count": 5,
   "metadata": {
    "collapsed": true
   },
   "outputs": [],
   "source": [
    "data = data.set_index(['DMD', 'FUEL', 'CC RE', 'DR', 'CO2', 'CC', 'Parameter (million USD)'])\n",
    "data.columns.name = 'year'"
   ]
  },
  {
   "cell_type": "code",
   "execution_count": null,
   "metadata": {
    "collapsed": false
   },
   "outputs": [],
   "source": [
    "data.head(2)"
   ]
  },
  {
   "cell_type": "code",
   "execution_count": 6,
   "metadata": {
    "collapsed": true
   },
   "outputs": [],
   "source": [
    "data = data.stack('year')\n",
    "data.name = 'value'"
   ]
  },
  {
   "cell_type": "code",
   "execution_count": null,
   "metadata": {
    "collapsed": false
   },
   "outputs": [],
   "source": [
    "data.head(2)"
   ]
  },
  {
   "cell_type": "code",
   "execution_count": 7,
   "metadata": {
    "collapsed": true
   },
   "outputs": [],
   "source": [
    "data = data.reset_index()\n",
    "d = 0.06\n",
    "data[\"discount_factor\"] = (1+d)**(1-(data.year.astype(int)-2012))"
   ]
  },
  {
   "cell_type": "code",
   "execution_count": 8,
   "metadata": {
    "collapsed": false
   },
   "outputs": [],
   "source": [
    "data[\"discounted_value\"] = data.value*data.discount_factor"
   ]
  },
  {
   "cell_type": "code",
   "execution_count": 9,
   "metadata": {
    "collapsed": false
   },
   "outputs": [],
   "source": [
    "new_data = data.set_index(['DMD', 'FUEL', 'CC RE', 'DR', 'CO2', 'CC', 'Parameter (million USD)']).discounted_value.sum(level=['DMD', 'FUEL', 'CC RE', 'DR', 'CO2', 'CC', 'Parameter (million USD)']).unstack(\"Parameter (million USD)\").reset_index()"
   ]
  },
  {
   "cell_type": "code",
   "execution_count": 10,
   "metadata": {
    "collapsed": false
   },
   "outputs": [
    {
     "data": {
      "text/html": [
       "<div>\n",
       "<table border=\"1\" class=\"dataframe\">\n",
       "  <thead>\n",
       "    <tr style=\"text-align: right;\">\n",
       "      <th>Parameter (million USD)</th>\n",
       "      <th>DMD</th>\n",
       "      <th>FUEL</th>\n",
       "      <th>CC RE</th>\n",
       "      <th>DR</th>\n",
       "      <th>CO2</th>\n",
       "      <th>CC</th>\n",
       "      <th>AnnualFixedOperatingCost</th>\n",
       "      <th>AnnualVariableOperatingCost</th>\n",
       "      <th>CapitalInvestment</th>\n",
       "    </tr>\n",
       "  </thead>\n",
       "  <tbody>\n",
       "    <tr>\n",
       "      <th>0</th>\n",
       "      <td>1</td>\n",
       "      <td>1</td>\n",
       "      <td>1</td>\n",
       "      <td>1</td>\n",
       "      <td>1</td>\n",
       "      <td>1</td>\n",
       "      <td>145040.894155</td>\n",
       "      <td>264842.793937</td>\n",
       "      <td>557916.129207</td>\n",
       "    </tr>\n",
       "    <tr>\n",
       "      <th>1</th>\n",
       "      <td>1</td>\n",
       "      <td>1</td>\n",
       "      <td>1</td>\n",
       "      <td>1</td>\n",
       "      <td>1</td>\n",
       "      <td>2</td>\n",
       "      <td>145029.912063</td>\n",
       "      <td>264721.877829</td>\n",
       "      <td>557747.884279</td>\n",
       "    </tr>\n",
       "    <tr>\n",
       "      <th>2</th>\n",
       "      <td>1</td>\n",
       "      <td>1</td>\n",
       "      <td>1</td>\n",
       "      <td>1</td>\n",
       "      <td>2</td>\n",
       "      <td>1</td>\n",
       "      <td>140835.679793</td>\n",
       "      <td>268463.184119</td>\n",
       "      <td>507805.812989</td>\n",
       "    </tr>\n",
       "    <tr>\n",
       "      <th>3</th>\n",
       "      <td>1</td>\n",
       "      <td>1</td>\n",
       "      <td>1</td>\n",
       "      <td>1</td>\n",
       "      <td>2</td>\n",
       "      <td>2</td>\n",
       "      <td>140823.274886</td>\n",
       "      <td>268034.979319</td>\n",
       "      <td>508341.044098</td>\n",
       "    </tr>\n",
       "    <tr>\n",
       "      <th>4</th>\n",
       "      <td>1</td>\n",
       "      <td>1</td>\n",
       "      <td>1</td>\n",
       "      <td>1</td>\n",
       "      <td>3</td>\n",
       "      <td>1</td>\n",
       "      <td>141079.735686</td>\n",
       "      <td>269136.897516</td>\n",
       "      <td>505354.608094</td>\n",
       "    </tr>\n",
       "  </tbody>\n",
       "</table>\n",
       "</div>"
      ],
      "text/plain": [
       "Parameter (million USD)  DMD  FUEL  CC RE  DR  CO2  CC  \\\n",
       "0                          1     1      1   1    1   1   \n",
       "1                          1     1      1   1    1   2   \n",
       "2                          1     1      1   1    2   1   \n",
       "3                          1     1      1   1    2   2   \n",
       "4                          1     1      1   1    3   1   \n",
       "\n",
       "Parameter (million USD)  AnnualFixedOperatingCost  \\\n",
       "0                                   145040.894155   \n",
       "1                                   145029.912063   \n",
       "2                                   140835.679793   \n",
       "3                                   140823.274886   \n",
       "4                                   141079.735686   \n",
       "\n",
       "Parameter (million USD)  AnnualVariableOperatingCost  CapitalInvestment  \n",
       "0                                      264842.793937      557916.129207  \n",
       "1                                      264721.877829      557747.884279  \n",
       "2                                      268463.184119      507805.812989  \n",
       "3                                      268034.979319      508341.044098  \n",
       "4                                      269136.897516      505354.608094  "
      ]
     },
     "execution_count": 10,
     "metadata": {},
     "output_type": "execute_result"
    }
   ],
   "source": [
    "new_data.head(5)"
   ]
  },
  {
   "cell_type": "markdown",
   "metadata": {},
   "source": [
    "### separate uncertain factors from results"
   ]
  },
  {
   "cell_type": "code",
   "execution_count": 11,
   "metadata": {
    "collapsed": true
   },
   "outputs": [],
   "source": [
    "inputs = new_data[['DMD', 'FUEL', 'CC RE', 'DR', 'CO2', 'CC']]"
   ]
  },
  {
   "cell_type": "markdown",
   "metadata": {},
   "source": [
    "### results (costs)"
   ]
  },
  {
   "cell_type": "code",
   "execution_count": 12,
   "metadata": {
    "collapsed": false
   },
   "outputs": [
    {
     "data": {
      "text/html": [
       "<div>\n",
       "<table border=\"1\" class=\"dataframe\">\n",
       "  <thead>\n",
       "    <tr style=\"text-align: right;\">\n",
       "      <th>Parameter (million USD)</th>\n",
       "      <th>CapitalInvestment</th>\n",
       "      <th>AnnualFixedOperatingCost</th>\n",
       "      <th>AnnualVariableOperatingCost</th>\n",
       "    </tr>\n",
       "  </thead>\n",
       "  <tbody>\n",
       "    <tr>\n",
       "      <th>count</th>\n",
       "      <td>3.240000e+02</td>\n",
       "      <td>324.000000</td>\n",
       "      <td>324.000000</td>\n",
       "    </tr>\n",
       "    <tr>\n",
       "      <th>mean</th>\n",
       "      <td>6.493549e+05</td>\n",
       "      <td>144072.376821</td>\n",
       "      <td>351253.089678</td>\n",
       "    </tr>\n",
       "    <tr>\n",
       "      <th>std</th>\n",
       "      <td>1.404637e+05</td>\n",
       "      <td>8470.677067</td>\n",
       "      <td>62988.566797</td>\n",
       "    </tr>\n",
       "    <tr>\n",
       "      <th>min</th>\n",
       "      <td>4.594565e+05</td>\n",
       "      <td>127878.275782</td>\n",
       "      <td>264721.877829</td>\n",
       "    </tr>\n",
       "    <tr>\n",
       "      <th>25%</th>\n",
       "      <td>5.462209e+05</td>\n",
       "      <td>137658.333176</td>\n",
       "      <td>302384.032938</td>\n",
       "    </tr>\n",
       "    <tr>\n",
       "      <th>50%</th>\n",
       "      <td>6.155210e+05</td>\n",
       "      <td>143580.802528</td>\n",
       "      <td>333234.143518</td>\n",
       "    </tr>\n",
       "    <tr>\n",
       "      <th>75%</th>\n",
       "      <td>7.030629e+05</td>\n",
       "      <td>148790.577682</td>\n",
       "      <td>401015.369259</td>\n",
       "    </tr>\n",
       "    <tr>\n",
       "      <th>max</th>\n",
       "      <td>1.141825e+06</td>\n",
       "      <td>166970.605547</td>\n",
       "      <td>534280.521865</td>\n",
       "    </tr>\n",
       "  </tbody>\n",
       "</table>\n",
       "</div>"
      ],
      "text/plain": [
       "Parameter (million USD)  CapitalInvestment  AnnualFixedOperatingCost  \\\n",
       "count                         3.240000e+02                324.000000   \n",
       "mean                          6.493549e+05             144072.376821   \n",
       "std                           1.404637e+05               8470.677067   \n",
       "min                           4.594565e+05             127878.275782   \n",
       "25%                           5.462209e+05             137658.333176   \n",
       "50%                           6.155210e+05             143580.802528   \n",
       "75%                           7.030629e+05             148790.577682   \n",
       "max                           1.141825e+06             166970.605547   \n",
       "\n",
       "Parameter (million USD)  AnnualVariableOperatingCost  \n",
       "count                                     324.000000  \n",
       "mean                                   351253.089678  \n",
       "std                                     62988.566797  \n",
       "min                                    264721.877829  \n",
       "25%                                    302384.032938  \n",
       "50%                                    333234.143518  \n",
       "75%                                    401015.369259  \n",
       "max                                    534280.521865  "
      ]
     },
     "execution_count": 12,
     "metadata": {},
     "output_type": "execute_result"
    }
   ],
   "source": [
    "new_data[['CapitalInvestment','AnnualFixedOperatingCost','AnnualVariableOperatingCost']].describe()"
   ]
  },
  {
   "cell_type": "code",
   "execution_count": 13,
   "metadata": {
    "collapsed": true
   },
   "outputs": [],
   "source": [
    "new_data['tot_cost'] = new_data[['CapitalInvestment','AnnualFixedOperatingCost','AnnualVariableOperatingCost']].sum(axis=1)"
   ]
  },
  {
   "cell_type": "code",
   "execution_count": 14,
   "metadata": {
    "collapsed": false
   },
   "outputs": [
    {
     "data": {
      "text/plain": [
       "count    3.240000e+02\n",
       "mean     1.144680e+06\n",
       "std      1.658876e+05\n",
       "min      9.155641e+05\n",
       "25%      1.016967e+06\n",
       "50%      1.121849e+06\n",
       "75%      1.238085e+06\n",
       "max      1.721998e+06\n",
       "Name: tot_cost, dtype: float64"
      ]
     },
     "execution_count": 14,
     "metadata": {},
     "output_type": "execute_result"
    }
   ],
   "source": [
    "new_data['tot_cost'].describe()"
   ]
  },
  {
   "cell_type": "code",
   "execution_count": 15,
   "metadata": {
    "collapsed": true
   },
   "outputs": [],
   "source": [
    "new_data['annual_cost'] = new_data[['AnnualFixedOperatingCost','AnnualVariableOperatingCost']].sum(axis=1)"
   ]
  },
  {
   "cell_type": "markdown",
   "metadata": {},
   "source": [
    "### clustering and scenario discovery functions "
   ]
  },
  {
   "cell_type": "code",
   "execution_count": 78,
   "metadata": {
    "collapsed": true
   },
   "outputs": [],
   "source": [
    "def normalize(data):\n",
    "    minima = np.min(data, axis=0)\n",
    "    maxima = np.max(data, axis=0)\n",
    "    a = 1/(maxima-minima)\n",
    "    b = minima/(minima-maxima)\n",
    "    data = a * data + b                    \n",
    "    return data\n",
    "\n",
    "def clustering(n_clusters,data,xstring,ystring):\n",
    "    data_norm = normalize(data)\n",
    "    g = mixture.GaussianMixture(n_components=n_clusters)\n",
    "    #g = mixture.GaussianMixture(n_components=n_clusters,random_state = 0)\n",
    "    g.fit(data_norm)\n",
    "    pred = g.predict(data_norm)+1\n",
    "                    \n",
    "    x=[]\n",
    "    y=[]\n",
    "    for i in range(0,len(data)):\n",
    "        x.append(data[i][0])\n",
    "        y.append(data[i][1])\n",
    "\n",
    "    df = pd.DataFrame()\n",
    "    df[xstring] = x\n",
    "    df[ystring] = y\n",
    "    df['class'] = pred\n",
    "    \n",
    "    return df"
   ]
  },
  {
   "cell_type": "code",
   "execution_count": 40,
   "metadata": {
    "collapsed": false
   },
   "outputs": [],
   "source": [
    "def get_prim(n_clusters, f_value,data,xstring,ystring,inputs):\n",
    "    \n",
    "    df = clustering(n_clusters,data,xstring,ystring)\n",
    "    list_prim =[]\n",
    "        \n",
    "    for i in range(1,df['class'].max()+1):\n",
    "        list_prim.append(prim.Prim(inputs, (df['class']==i),threshold=0.5,threshold_type=\">\"))\n",
    "\n",
    "    boxes = []\n",
    "\n",
    "    for i in range(0,len(list_prim)):\n",
    "        boxes.append(list_prim[i].find_box())\n",
    "        obj = (f_value*boxes[i].peeling_trajectory['coverage']-(1-f_value)*boxes[i].peeling_trajectory['density'])**2\n",
    "        if 1 in boxes[i].peeling_trajectory['coverage']:\n",
    "            coverage1 = np.where(boxes[i].peeling_trajectory['coverage']==1)[0][0]\n",
    "            obj = obj.drop(obj.index[[coverage1]])\n",
    "        k = obj.argmin()\n",
    "        boxes[i].select(k)\n",
    "    \n",
    "    return [boxes,df]"
   ]
  },
  {
   "cell_type": "markdown",
   "metadata": {},
   "source": [
    "### looking for the clusters that gives the best PRIM results (the number of clusters is chosen by the algorithm) "
   ]
  },
  {
   "cell_type": "code",
   "execution_count": 18,
   "metadata": {
    "collapsed": true
   },
   "outputs": [],
   "source": [
    "oois = ['annual_cost','CapitalInvestment']\n",
    "\n",
    "data = np.array([[new_data[oois[0]][0],new_data[oois[1]][0]]])\n",
    "for i in range(1,len(new_data.index)):\n",
    "    data = np.concatenate((data,np.array([[new_data[oois[0]][i],new_data[oois[1]][i]]])))"
   ]
  },
  {
   "cell_type": "code",
   "execution_count": 67,
   "metadata": {
    "collapsed": true
   },
   "outputs": [],
   "source": [
    "n_clusters = 4\n",
    "f_value = 0.5\n",
    "seuil = 1.2"
   ]
  },
  {
   "cell_type": "code",
   "execution_count": 79,
   "metadata": {
    "collapsed": false
   },
   "outputs": [],
   "source": [
    "boxes_out,df_out = get_prim(n_clusters, f_value, data,oois[0],oois[1],inputs)"
   ]
  },
  {
   "cell_type": "code",
   "execution_count": 89,
   "metadata": {
    "collapsed": false
   },
   "outputs": [
    {
     "data": {
      "image/png": "[encoded data removed]",
      "text/plain": [
       "<matplotlib.figure.Figure at 0x21eefb1ec88>"
      ]
     },
     "metadata": {},
     "output_type": "display_data"
    }
   ],
   "source": [
    "f = plt.figure(figsize=(9,9))\n",
    "mycolors = [\"#66c2a5\",\"#fc8d62\",\"#8da0cb\",\"#e78ac3\"]\n",
    "mymarks = [\"o\",\"x\",\"^\",\"s\"]\n",
    "for (i,subdf) in df_out.groupby(\"class\"):\n",
    "    plt.scatter(1e-6*subdf.annual_cost,1e-6*subdf.CapitalInvestment,label=\"Cluster {}\".format(i),c=mycolors[i-1],marker=mymarks[i-1])\n",
    "    \n",
    "plt.legend()\n",
    "plt.xlabel(\"Total variable and fixed annual cost, discounted at 3% (Trillion USD)\")\n",
    "plt.ylabel(\"Capital investment cost, discounted at 3% (Trillion USD)\")\n",
    "plt.savefig(\"clusters_discounted_6.png\")"
   ]
  },
  {
   "cell_type": "markdown",
   "metadata": {},
   "source": [
    "### below are PRIM results for each cluster"
   ]
  },
  {
   "cell_type": "markdown",
   "metadata": {},
   "source": [
    "#### cluster 1  "
   ]
  },
  {
   "cell_type": "code",
   "execution_count": 81,
   "metadata": {
    "collapsed": false
   },
   "outputs": [
    {
     "data": {
      "text/html": [
       "<div>\n",
       "<table border=\"1\" class=\"dataframe\">\n",
       "  <thead>\n",
       "    <tr style=\"text-align: right;\">\n",
       "      <th></th>\n",
       "      <th>min</th>\n",
       "      <th>max</th>\n",
       "      <th>qp values</th>\n",
       "    </tr>\n",
       "  </thead>\n",
       "  <tbody>\n",
       "    <tr>\n",
       "      <th>DR</th>\n",
       "      <td>3.0</td>\n",
       "      <td>3.0</td>\n",
       "      <td>5.231633e-13</td>\n",
       "    </tr>\n",
       "    <tr>\n",
       "      <th>CO2</th>\n",
       "      <td>1.0</td>\n",
       "      <td>2.0</td>\n",
       "      <td>3.586348e-04</td>\n",
       "    </tr>\n",
       "    <tr>\n",
       "      <th>DMD</th>\n",
       "      <td>2.0</td>\n",
       "      <td>3.0</td>\n",
       "      <td>3.586348e-04</td>\n",
       "    </tr>\n",
       "  </tbody>\n",
       "</table>\n",
       "</div>"
      ],
      "text/plain": [
       "     min  max     qp values\n",
       "DR   3.0  3.0  5.231633e-13\n",
       "CO2  1.0  2.0  3.586348e-04\n",
       "DMD  2.0  3.0  3.586348e-04"
      ]
     },
     "execution_count": 81,
     "metadata": {},
     "output_type": "execute_result"
    }
   ],
   "source": [
    "boxes_out[0].limits"
   ]
  },
  {
   "cell_type": "code",
   "execution_count": 82,
   "metadata": {
    "collapsed": false
   },
   "outputs": [
    {
     "data": {
      "text/plain": [
       "(1.0, 0.75)"
      ]
     },
     "execution_count": 82,
     "metadata": {},
     "output_type": "execute_result"
    }
   ],
   "source": [
    "boxes_out[0].coverage,boxes_out[0].density"
   ]
  },
  {
   "cell_type": "markdown",
   "metadata": {},
   "source": [
    "#### cluster 2 "
   ]
  },
  {
   "cell_type": "code",
   "execution_count": 83,
   "metadata": {
    "collapsed": false
   },
   "outputs": [
    {
     "data": {
      "text/html": [
       "<div>\n",
       "<table border=\"1\" class=\"dataframe\">\n",
       "  <thead>\n",
       "    <tr style=\"text-align: right;\">\n",
       "      <th></th>\n",
       "      <th>min</th>\n",
       "      <th>max</th>\n",
       "      <th>qp values</th>\n",
       "    </tr>\n",
       "  </thead>\n",
       "  <tbody>\n",
       "    <tr>\n",
       "      <th>DMD</th>\n",
       "      <td>1.0</td>\n",
       "      <td>2.0</td>\n",
       "      <td>1.731957e-09</td>\n",
       "    </tr>\n",
       "    <tr>\n",
       "      <th>DR</th>\n",
       "      <td>1.0</td>\n",
       "      <td>2.0</td>\n",
       "      <td>1.731957e-09</td>\n",
       "    </tr>\n",
       "  </tbody>\n",
       "</table>\n",
       "</div>"
      ],
      "text/plain": [
       "     min  max     qp values\n",
       "DMD  1.0  2.0  1.731957e-09\n",
       "DR   1.0  2.0  1.731957e-09"
      ]
     },
     "execution_count": 83,
     "metadata": {},
     "output_type": "execute_result"
    }
   ],
   "source": [
    "boxes_out[1].limits"
   ]
  },
  {
   "cell_type": "code",
   "execution_count": 84,
   "metadata": {
    "collapsed": false
   },
   "outputs": [
    {
     "data": {
      "text/plain": [
       "(1.0, 0.73611111111111116)"
      ]
     },
     "execution_count": 84,
     "metadata": {},
     "output_type": "execute_result"
    }
   ],
   "source": [
    "boxes_out[1].coverage,boxes_out[1].density"
   ]
  },
  {
   "cell_type": "markdown",
   "metadata": {},
   "source": [
    "#### cluster 3 "
   ]
  },
  {
   "cell_type": "code",
   "execution_count": 85,
   "metadata": {
    "collapsed": false
   },
   "outputs": [
    {
     "data": {
      "text/html": [
       "<div>\n",
       "<table border=\"1\" class=\"dataframe\">\n",
       "  <thead>\n",
       "    <tr style=\"text-align: right;\">\n",
       "      <th></th>\n",
       "      <th>min</th>\n",
       "      <th>max</th>\n",
       "      <th>qp values</th>\n",
       "    </tr>\n",
       "  </thead>\n",
       "  <tbody>\n",
       "    <tr>\n",
       "      <th>DMD</th>\n",
       "      <td>2.0</td>\n",
       "      <td>3.0</td>\n",
       "      <td>0.000002</td>\n",
       "    </tr>\n",
       "    <tr>\n",
       "      <th>DR</th>\n",
       "      <td>1.0</td>\n",
       "      <td>2.0</td>\n",
       "      <td>0.000002</td>\n",
       "    </tr>\n",
       "    <tr>\n",
       "      <th>CO2</th>\n",
       "      <td>1.0</td>\n",
       "      <td>2.0</td>\n",
       "      <td>0.000235</td>\n",
       "    </tr>\n",
       "  </tbody>\n",
       "</table>\n",
       "</div>"
      ],
      "text/plain": [
       "     min  max  qp values\n",
       "DMD  2.0  3.0   0.000002\n",
       "DR   1.0  2.0   0.000002\n",
       "CO2  1.0  2.0   0.000235"
      ]
     },
     "execution_count": 85,
     "metadata": {},
     "output_type": "execute_result"
    }
   ],
   "source": [
    "boxes_out[2].limits"
   ]
  },
  {
   "cell_type": "code",
   "execution_count": 86,
   "metadata": {
    "collapsed": false
   },
   "outputs": [
    {
     "data": {
      "text/plain": [
       "(0.89473684210526316, 0.70833333333333337)"
      ]
     },
     "execution_count": 86,
     "metadata": {},
     "output_type": "execute_result"
    }
   ],
   "source": [
    "boxes_out[2].coverage,boxes_out[2].density"
   ]
  },
  {
   "cell_type": "code",
   "execution_count": 87,
   "metadata": {
    "collapsed": false
   },
   "outputs": [
    {
     "data": {
      "text/html": [
       "<div>\n",
       "<table border=\"1\" class=\"dataframe\">\n",
       "  <thead>\n",
       "    <tr style=\"text-align: right;\">\n",
       "      <th></th>\n",
       "      <th>min</th>\n",
       "      <th>max</th>\n",
       "      <th>qp values</th>\n",
       "    </tr>\n",
       "  </thead>\n",
       "  <tbody>\n",
       "    <tr>\n",
       "      <th>DR</th>\n",
       "      <td>2.0</td>\n",
       "      <td>3.0</td>\n",
       "      <td>0.000004</td>\n",
       "    </tr>\n",
       "    <tr>\n",
       "      <th>CO2</th>\n",
       "      <td>2.0</td>\n",
       "      <td>3.0</td>\n",
       "      <td>0.000162</td>\n",
       "    </tr>\n",
       "  </tbody>\n",
       "</table>\n",
       "</div>"
      ],
      "text/plain": [
       "     min  max  qp values\n",
       "DR   2.0  3.0   0.000004\n",
       "CO2  2.0  3.0   0.000162"
      ]
     },
     "execution_count": 87,
     "metadata": {},
     "output_type": "execute_result"
    }
   ],
   "source": [
    "boxes_out[3].limits"
   ]
  },
  {
   "cell_type": "code",
   "execution_count": 88,
   "metadata": {
    "collapsed": false
   },
   "outputs": [
    {
     "data": {
      "text/plain": [
       "(0.84905660377358494, 0.625)"
      ]
     },
     "execution_count": 88,
     "metadata": {},
     "output_type": "execute_result"
    }
   ],
   "source": [
    "boxes_out[3].coverage,boxes_out[3].density"
   ]
  },
  {
   "cell_type": "code",
   "execution_count": null,
   "metadata": {
    "collapsed": true
   },
   "outputs": [],
   "source": []
  }
 ],
 "metadata": {
  "kernelspec": {
   "display_name": "Python [default]",
   "language": "python",
   "name": "python3"
  },
  "language_info": {
   "codemirror_mode": {
    "name": "ipython",
    "version": 3
   },
   "file_extension": ".py",
   "mimetype": "text/x-python",
   "name": "python",
   "nbconvert_exporter": "python",
   "pygments_lexer": "ipython3",
   "version": "3.5.2"
  },
  "toc": {
   "colors": {
    "hover_highlight": "#DAA520",
    "navigate_num": "#000000",
    "navigate_text": "#333333",
    "running_highlight": "#FF0000",
    "selected_highlight": "#FFD700",
    "sidebar_border": "#EEEEEE",
    "wrapper_background": "#FFFFFF"
   },
   "moveMenuLeft": true,
   "nav_menu": {
    "height": "236px",
    "width": "252px"
   },
   "navigate_menu": true,
   "number_sections": true,
   "sideBar": true,
   "threshold": 4,
   "toc_cell": false,
   "toc_section_display": "block",
   "toc_window_display": false,
   "widenNotebook": false
  }
 },
 "nbformat": 4,
 "nbformat_minor": 0
}
